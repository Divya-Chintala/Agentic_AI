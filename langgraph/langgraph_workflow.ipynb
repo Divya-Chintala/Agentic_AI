{
 "cells": [
  {
   "cell_type": "code",
   "execution_count": 1,
   "id": "0a82cd14",
   "metadata": {},
   "outputs": [],
   "source": [
    "from pydantic import BaseModel\n",
    "from typing import Annotated,TypedDict,List,Sequence\n",
    "from langchain_core.messages import BaseMessage\n",
    "import operator\n",
    "from langchain_core.prompts import PromptTemplate\n",
    "from langchain.output_parsers import PydanticOutputParser\n",
    "from pydantic import BaseModel,Field"
   ]
  },
  {
   "cell_type": "code",
   "execution_count": 2,
   "id": "54384aee",
   "metadata": {},
   "outputs": [
    {
     "data": {
      "text/plain": [
       "True"
      ]
     },
     "execution_count": 2,
     "metadata": {},
     "output_type": "execute_result"
    }
   ],
   "source": [
    "from dotenv import load_dotenv\n",
    "\n",
    "load_dotenv()"
   ]
  },
  {
   "cell_type": "code",
   "execution_count": 3,
   "id": "be121d52",
   "metadata": {},
   "outputs": [],
   "source": [
    "class AgentState(TypedDict):\n",
    "    messages:Annotated[Sequence[BaseMessage], operator.add]"
   ]
  },
  {
   "cell_type": "code",
   "execution_count": 4,
   "id": "fc90b00b",
   "metadata": {},
   "outputs": [],
   "source": [
    "state = {\n",
    "    \"messages\": []\n",
    "}\n"
   ]
  },
  {
   "cell_type": "code",
   "execution_count": 5,
   "id": "af439095",
   "metadata": {},
   "outputs": [
    {
     "data": {
      "text/plain": [
       "[]"
      ]
     },
     "execution_count": 5,
     "metadata": {},
     "output_type": "execute_result"
    }
   ],
   "source": [
    "state['messages']"
   ]
  },
  {
   "cell_type": "code",
   "execution_count": 6,
   "id": "d87957fa",
   "metadata": {},
   "outputs": [],
   "source": [
    "from langgraph.graph import StateGraph,END\n",
    "\n",
    "workflow1=StateGraph(AgentState)"
   ]
  },
  {
   "cell_type": "code",
   "execution_count": 7,
   "id": "109284f8",
   "metadata": {},
   "outputs": [],
   "source": [
    "from langchain_google_genai import ChatGoogleGenerativeAI\n",
    "\n",
    "model=ChatGoogleGenerativeAI(model=\"gemini-1.5-flash\")"
   ]
  },
  {
   "cell_type": "code",
   "execution_count": 8,
   "id": "9e6ef36a",
   "metadata": {},
   "outputs": [],
   "source": [
    "#Supervisor\n",
    "def function1(state:AgentState):\n",
    "\n",
    "    query=state['messages'][-1]\n",
    "\n",
    "\n",
    "    class Pydanticparser(BaseModel):\n",
    "        Topic: str=Field(description=\"selected topic\")\n",
    "        Reasoning:str=Field(description=\"Reasoning behind selected Topic\")\n",
    "\n",
    "    \n",
    "\n",
    "    parser=PydanticOutputParser(pydantic_object=Pydanticparser)\n",
    "    parser.get_format_instructions()\n",
    "\n",
    "    template=\"\"\"\n",
    "    you have to conclude user query in any of these three categories i.e.,[USA, Real-time, Not-Related].\n",
    "    Real-time info required (if you dont have required data to answer user-question).\n",
    "    Not-related (if you know answer to that and its not related to USA)\n",
    "    only respond with category name in JSON Format, nothing else.\n",
    "\n",
    "    userquery: {query}\n",
    "    {format_instruction}\n",
    "    \"\"\"\n",
    "    prompt=PromptTemplate(\n",
    "    template=template,\n",
    "    input_variables=[\"query\"],\n",
    "    partial_variables={\"format_instruction\": parser.get_format_instructions()}\n",
    "    )\n",
    "\n",
    "    chain=prompt | model | parser\n",
    "    result=chain.invoke({\"query\":query})\n",
    "\n",
    "    return {\"messages\":[result.Topic]}\n",
    "\n"
   ]
  },
  {
   "cell_type": "code",
   "execution_count": 9,
   "id": "927af74a",
   "metadata": {},
   "outputs": [],
   "source": [
    "# LLM\n",
    "def function2(state:AgentState):\n",
    "    query=state['messages'][0]\n",
    "    complete_query=\"Answer the follow question with your knowledge of real world. Following is user question:\" + query\n",
    "    res=model.invoke(complete_query)\n",
    "    return {\"messages\":[res.content]}"
   ]
  },
  {
   "cell_type": "code",
   "execution_count": 10,
   "id": "7bca9b94",
   "metadata": {},
   "outputs": [
    {
     "data": {
      "text/plain": [
       "[Document(metadata={'source': 'Data2\\\\usa.txt'}, page_content=\"us Overview of the U.S. Economy\\nThe United States of America possesses the largest economy in the world in terms of nominal GDP, making it the most powerful economic force globally. It operates under a capitalist mixed economy, where the private sector dominates, but the government plays a significant regulatory and fiscal role. With a population of over 335 million people and a high level of technological advancement, the U.S. economy thrives on a foundation of consumer spending, innovation, global trade, and financial services. It has a highly diversified structure with strong sectors in technology, healthcare, finance, real estate, defense, and agriculture.\\n\\nU.S. GDP â€“ Size, Composition, and Global Share\\nAs of 2024, the United Statesâ€™ nominal GDP is estimated to be around $28 trillion USD, accounting for approximately 25% of the global economy. It ranks #1 in the world by nominal GDP, far ahead of China (which ranks 2nd). The U.S. GDP per capita is also among the highest, hovering around $83,000, which indicates a high standard of living and productivity. In terms of Purchasing Power Parity (PPP), the U.S. ranks second, but nominal GDP is considered more reflective of actual economic size and financial influence.\\n\\nThe GDP is predominantly driven by the services sector, which contributes more than 77% to the total GDP. This includes industries such as finance, insurance, real estate, healthcare, education, and information technology. The industrial sector (manufacturing, construction, mining) makes up around 19%, while agriculture, although technologically advanced and export-oriented, contributes only about 1%. Despite its small share in GDP, U.S. agriculture is globally significant in terms of productivity and exports.\\n\\nGDP Growth Trends and Dynamics\\nHistorically, the U.S. economy has enjoyed consistent long-term growth, averaging around 2-3% annually. Post-pandemic, the economy bounced back strongly, but 2022 and 2023 saw rising inflation due to supply chain issues and stimulus-driven demand. In 2024, the U.S. GDP grew at a modest pace of around 2.1%, as the Federal Reserveâ€™s interest rate hikes aimed at controlling inflation also moderated economic expansion. Consumer spending, which makes up nearly 70% of GDP, remains a dominant force in economic stability.\\n\\nThe U.S. maintains its GDP growth through strong innovation, entrepreneurship, and investment in R&D. With companies like Apple, Google, Amazon, Microsoft, and Tesla leading global markets, the U.S. consistently produces high value across sectors, especially in technology and advanced services. Additionally, the economy benefits from intellectual property exports, financial services, and higher education, all of which contribute significantly to GDP through both domestic and international markets.\\n\\nRole in the Global Economy\\nThe U.S. Dollar (USD) is the global reserve currency, held by over 60% of the worldâ€™s central bank reserves. This gives the U.S. an enormous advantage in global trade and borrowing. The U.S. is a key member of international institutions like the World Bank, IMF, G7, G20, and WTO, and plays a central role in setting global economic policy.\\n\\nAs a global innovation hub, the U.S. attracts billions in foreign investment and hosts many of the world's largest and most valuable companies. Its exports include high-tech machinery, aircraft, pharmaceuticals, semiconductors, and financial services, while its imports cover consumer goods, electronics, automobiles, and industrial materials. The trade deficit remains large (around $900 billion in 2024), primarily because the U.S. consumes more than it exports, but its ability to finance this through capital inflows and reserve currency status sustains balance.\\n\\nKey Economic Strengths\\nThe core strength of the U.S. economy lies in its flexible labor market, deep capital markets, technological superiority, and legal system that encourages innovation and property rights. It has a large, highly educated workforce, a diverse immigration pipeline, and access to vast natural resources including oil, gas, coal, and farmland. The presence of top-tier universities and research institutions fuels the knowledge economy, with billions spent annually on R&Dâ€”over $700 billion USD, more than any other country.\\n\\nThe U.S. leads in many critical sectors, including software, biotechnology, aerospace, defense, financial services, and media. Its startup ecosystem, especially in Silicon Valley, produces unicorns and tech giants at a scale unmatched globally. Its financial marketsâ€”particularly Wall Streetâ€”are the most liquid and globally integrated in the world.\\n\\nChallenges and Structural Issues\\nDespite its strength, the U.S. economy faces several serious long-term issues. The national debt has surpassed $34 trillion USD, raising concerns about fiscal sustainability, especially as interest payments alone are growing rapidly. The income and wealth inequality gap has widened, with a small percentage of Americans owning a disproportionate share of wealth. Access to affordable healthcare, housing shortages, and a declining labor force participation in some sectors are additional structural issues.\\n\\nAnother growing concern is political polarization, which often stalls crucial economic reforms and budget agreements, as seen in recurrent debt ceiling crises. The U.S. also faces challenges from global competition, especially from China in areas like AI, semiconductors, and green technology. Moreover, climate change, cybersecurity threats, and geopolitical risks (like Ukraine and Taiwan conflicts) add layers of vulnerability to economic planning.\\n\\nFuture Outlook (2025â€“2030)\\nLooking forward, the U.S. economy is expected to grow at a moderate pace, powered by innovation in AI, green energy, robotics, biotech, and quantum computing. The Biden administrationâ€™s Inflation Reduction Act and CHIPS Act are pumping massive investments into semiconductors, clean energy, and infrastructure. There is a strong push for reshoring of manufacturing, especially in critical sectors like chips, pharmaceuticals, and batteries.\\n\\nHowever, economic leadership will depend on managing the national debt, reforming entitlement programs, upgrading infrastructure, and ensuring the next generation is equipped with digital-age skills. If the U.S. can handle these challenges, it is well-positioned to remain a global economic powerhouse through 2030 and beyond.\\n\\nFinal Summary\\nThe U.S. economy remains the engine of global growth, backed by unmatched innovation, financial dominance, and a strong institutional framework. Its $28 trillion GDP and influence over global finance, trade, and technology make it the centerpiece of the modern economic system. Yet, rising debt, inequality, political gridlock, and competition from emerging powers demand careful policy navigation. If successfully addressed, the U.S. will continue to dominate the global economy well into the future.\")]"
      ]
     },
     "execution_count": 10,
     "metadata": {},
     "output_type": "execute_result"
    }
   ],
   "source": [
    "from langchain_community.document_loaders import TextLoader,DirectoryLoader\n",
    "\n",
    "loader=DirectoryLoader(\"Data2\",loader_cls=TextLoader)\n",
    "docs=loader.load()\n",
    "docs"
   ]
  },
  {
   "cell_type": "code",
   "execution_count": 11,
   "id": "5c590683",
   "metadata": {},
   "outputs": [
    {
     "data": {
      "text/plain": [
       "[Document(metadata={'source': 'Data2\\\\usa.txt'}, page_content='us Overview of the U.S. Economy'),\n",
       " Document(metadata={'source': 'Data2\\\\usa.txt'}, page_content='The United States of America possesses the largest economy in the world in terms of nominal GDP, making it the most powerful economic force globally. It operates under a capitalist mixed economy,'),\n",
       " Document(metadata={'source': 'Data2\\\\usa.txt'}, page_content='It operates under a capitalist mixed economy, where the private sector dominates, but the government plays a significant regulatory and fiscal role. With a population of over 335 million people and a'),\n",
       " Document(metadata={'source': 'Data2\\\\usa.txt'}, page_content='a population of over 335 million people and a high level of technological advancement, the U.S. economy thrives on a foundation of consumer spending, innovation, global trade, and financial services.'),\n",
       " Document(metadata={'source': 'Data2\\\\usa.txt'}, page_content='innovation, global trade, and financial services. It has a highly diversified structure with strong sectors in technology, healthcare, finance, real estate, defense, and agriculture.'),\n",
       " Document(metadata={'source': 'Data2\\\\usa.txt'}, page_content='U.S. GDP â€“ Size, Composition, and Global Share'),\n",
       " Document(metadata={'source': 'Data2\\\\usa.txt'}, page_content='As of 2024, the United Statesâ€™ nominal GDP is estimated to be around $28 trillion USD, accounting for approximately 25% of the global economy. It ranks #1 in the world by nominal GDP, far ahead of'),\n",
       " Document(metadata={'source': 'Data2\\\\usa.txt'}, page_content='#1 in the world by nominal GDP, far ahead of China (which ranks 2nd). The U.S. GDP per capita is also among the highest, hovering around $83,000, which indicates a high standard of living and'),\n",
       " Document(metadata={'source': 'Data2\\\\usa.txt'}, page_content='which indicates a high standard of living and productivity. In terms of Purchasing Power Parity (PPP), the U.S. ranks second, but nominal GDP is considered more reflective of actual economic size and'),\n",
       " Document(metadata={'source': 'Data2\\\\usa.txt'}, page_content='more reflective of actual economic size and financial influence.'),\n",
       " Document(metadata={'source': 'Data2\\\\usa.txt'}, page_content='The GDP is predominantly driven by the services sector, which contributes more than 77% to the total GDP. This includes industries such as finance, insurance, real estate, healthcare, education, and'),\n",
       " Document(metadata={'source': 'Data2\\\\usa.txt'}, page_content='real estate, healthcare, education, and information technology. The industrial sector (manufacturing, construction, mining) makes up around 19%, while agriculture, although technologically advanced'),\n",
       " Document(metadata={'source': 'Data2\\\\usa.txt'}, page_content='agriculture, although technologically advanced and export-oriented, contributes only about 1%. Despite its small share in GDP, U.S. agriculture is globally significant in terms of productivity and'),\n",
       " Document(metadata={'source': 'Data2\\\\usa.txt'}, page_content='globally significant in terms of productivity and exports.'),\n",
       " Document(metadata={'source': 'Data2\\\\usa.txt'}, page_content='GDP Growth Trends and Dynamics'),\n",
       " Document(metadata={'source': 'Data2\\\\usa.txt'}, page_content='Historically, the U.S. economy has enjoyed consistent long-term growth, averaging around 2-3% annually. Post-pandemic, the economy bounced back strongly, but 2022 and 2023 saw rising inflation due to'),\n",
       " Document(metadata={'source': 'Data2\\\\usa.txt'}, page_content='but 2022 and 2023 saw rising inflation due to supply chain issues and stimulus-driven demand. In 2024, the U.S. GDP grew at a modest pace of around 2.1%, as the Federal Reserveâ€™s interest rate'),\n",
       " Document(metadata={'source': 'Data2\\\\usa.txt'}, page_content='2.1%, as the Federal Reserveâ€™s interest rate hikes aimed at controlling inflation also moderated economic expansion. Consumer spending, which makes up nearly 70% of GDP, remains a dominant force in'),\n",
       " Document(metadata={'source': 'Data2\\\\usa.txt'}, page_content='up nearly 70% of GDP, remains a dominant force in economic stability.'),\n",
       " Document(metadata={'source': 'Data2\\\\usa.txt'}, page_content='The U.S. maintains its GDP growth through strong innovation, entrepreneurship, and investment in R&D. With companies like Apple, Google, Amazon, Microsoft, and Tesla leading global markets, the U.S.'),\n",
       " Document(metadata={'source': 'Data2\\\\usa.txt'}, page_content='and Tesla leading global markets, the U.S. consistently produces high value across sectors, especially in technology and advanced services. Additionally, the economy benefits from intellectual'),\n",
       " Document(metadata={'source': 'Data2\\\\usa.txt'}, page_content='the economy benefits from intellectual property exports, financial services, and higher education, all of which contribute significantly to GDP through both domestic and international markets.'),\n",
       " Document(metadata={'source': 'Data2\\\\usa.txt'}, page_content='Role in the Global Economy'),\n",
       " Document(metadata={'source': 'Data2\\\\usa.txt'}, page_content='The U.S. Dollar (USD) is the global reserve currency, held by over 60% of the worldâ€™s central bank reserves. This gives the U.S. an enormous advantage in global trade and borrowing. The U.S. is a'),\n",
       " Document(metadata={'source': 'Data2\\\\usa.txt'}, page_content='in global trade and borrowing. The U.S. is a key member of international institutions like the World Bank, IMF, G7, G20, and WTO, and plays a central role in setting global economic policy.'),\n",
       " Document(metadata={'source': 'Data2\\\\usa.txt'}, page_content=\"As a global innovation hub, the U.S. attracts billions in foreign investment and hosts many of the world's largest and most valuable companies. Its exports include high-tech machinery, aircraft,\"),\n",
       " Document(metadata={'source': 'Data2\\\\usa.txt'}, page_content='exports include high-tech machinery, aircraft, pharmaceuticals, semiconductors, and financial services, while its imports cover consumer goods, electronics, automobiles, and industrial materials. The'),\n",
       " Document(metadata={'source': 'Data2\\\\usa.txt'}, page_content='automobiles, and industrial materials. The trade deficit remains large (around $900 billion in 2024), primarily because the U.S. consumes more than it exports, but its ability to finance this through'),\n",
       " Document(metadata={'source': 'Data2\\\\usa.txt'}, page_content='exports, but its ability to finance this through capital inflows and reserve currency status sustains balance.'),\n",
       " Document(metadata={'source': 'Data2\\\\usa.txt'}, page_content='Key Economic Strengths'),\n",
       " Document(metadata={'source': 'Data2\\\\usa.txt'}, page_content='The core strength of the U.S. economy lies in its flexible labor market, deep capital markets, technological superiority, and legal system that encourages innovation and property rights. It has a'),\n",
       " Document(metadata={'source': 'Data2\\\\usa.txt'}, page_content='innovation and property rights. It has a large, highly educated workforce, a diverse immigration pipeline, and access to vast natural resources including oil, gas, coal, and farmland. The presence of'),\n",
       " Document(metadata={'source': 'Data2\\\\usa.txt'}, page_content='oil, gas, coal, and farmland. The presence of top-tier universities and research institutions fuels the knowledge economy, with billions spent annually on R&Dâ€”over $700 billion USD, more than any'),\n",
       " Document(metadata={'source': 'Data2\\\\usa.txt'}, page_content='on R&Dâ€”over $700 billion USD, more than any other country.'),\n",
       " Document(metadata={'source': 'Data2\\\\usa.txt'}, page_content='The U.S. leads in many critical sectors, including software, biotechnology, aerospace, defense, financial services, and media. Its startup ecosystem, especially in Silicon Valley, produces unicorns'),\n",
       " Document(metadata={'source': 'Data2\\\\usa.txt'}, page_content='especially in Silicon Valley, produces unicorns and tech giants at a scale unmatched globally. Its financial marketsâ€”particularly Wall Streetâ€”are the most liquid and globally integrated in the'),\n",
       " Document(metadata={'source': 'Data2\\\\usa.txt'}, page_content='the most liquid and globally integrated in the world.'),\n",
       " Document(metadata={'source': 'Data2\\\\usa.txt'}, page_content='Challenges and Structural Issues'),\n",
       " Document(metadata={'source': 'Data2\\\\usa.txt'}, page_content='Despite its strength, the U.S. economy faces several serious long-term issues. The national debt has surpassed $34 trillion USD, raising concerns about fiscal sustainability, especially as interest'),\n",
       " Document(metadata={'source': 'Data2\\\\usa.txt'}, page_content='fiscal sustainability, especially as interest payments alone are growing rapidly. The income and wealth inequality gap has widened, with a small percentage of Americans owning a disproportionate'),\n",
       " Document(metadata={'source': 'Data2\\\\usa.txt'}, page_content='percentage of Americans owning a disproportionate share of wealth. Access to affordable healthcare, housing shortages, and a declining labor force participation in some sectors are additional'),\n",
       " Document(metadata={'source': 'Data2\\\\usa.txt'}, page_content='participation in some sectors are additional structural issues.'),\n",
       " Document(metadata={'source': 'Data2\\\\usa.txt'}, page_content='Another growing concern is political polarization, which often stalls crucial economic reforms and budget agreements, as seen in recurrent debt ceiling crises. The U.S. also faces challenges from'),\n",
       " Document(metadata={'source': 'Data2\\\\usa.txt'}, page_content='crises. The U.S. also faces challenges from global competition, especially from China in areas like AI, semiconductors, and green technology. Moreover, climate change, cybersecurity threats, and'),\n",
       " Document(metadata={'source': 'Data2\\\\usa.txt'}, page_content='climate change, cybersecurity threats, and geopolitical risks (like Ukraine and Taiwan conflicts) add layers of vulnerability to economic planning.'),\n",
       " Document(metadata={'source': 'Data2\\\\usa.txt'}, page_content='Future Outlook (2025â€“2030)'),\n",
       " Document(metadata={'source': 'Data2\\\\usa.txt'}, page_content='Looking forward, the U.S. economy is expected to grow at a moderate pace, powered by innovation in AI, green energy, robotics, biotech, and quantum computing. The Biden administrationâ€™s Inflation'),\n",
       " Document(metadata={'source': 'Data2\\\\usa.txt'}, page_content='computing. The Biden administrationâ€™s Inflation Reduction Act and CHIPS Act are pumping massive investments into semiconductors, clean energy, and infrastructure. There is a strong push for'),\n",
       " Document(metadata={'source': 'Data2\\\\usa.txt'}, page_content='and infrastructure. There is a strong push for reshoring of manufacturing, especially in critical sectors like chips, pharmaceuticals, and batteries.'),\n",
       " Document(metadata={'source': 'Data2\\\\usa.txt'}, page_content='However, economic leadership will depend on managing the national debt, reforming entitlement programs, upgrading infrastructure, and ensuring the next generation is equipped with digital-age skills.'),\n",
       " Document(metadata={'source': 'Data2\\\\usa.txt'}, page_content='generation is equipped with digital-age skills. If the U.S. can handle these challenges, it is well-positioned to remain a global economic powerhouse through 2030 and beyond.'),\n",
       " Document(metadata={'source': 'Data2\\\\usa.txt'}, page_content='Final Summary'),\n",
       " Document(metadata={'source': 'Data2\\\\usa.txt'}, page_content='The U.S. economy remains the engine of global growth, backed by unmatched innovation, financial dominance, and a strong institutional framework. Its $28 trillion GDP and influence over global'),\n",
       " Document(metadata={'source': 'Data2\\\\usa.txt'}, page_content='Its $28 trillion GDP and influence over global finance, trade, and technology make it the centerpiece of the modern economic system. Yet, rising debt, inequality, political gridlock, and competition'),\n",
       " Document(metadata={'source': 'Data2\\\\usa.txt'}, page_content='inequality, political gridlock, and competition from emerging powers demand careful policy navigation. If successfully addressed, the U.S. will continue to dominate the global economy well into the'),\n",
       " Document(metadata={'source': 'Data2\\\\usa.txt'}, page_content='to dominate the global economy well into the future.')]"
      ]
     },
     "execution_count": 11,
     "metadata": {},
     "output_type": "execute_result"
    }
   ],
   "source": [
    "from langchain.text_splitter import RecursiveCharacterTextSplitter\n",
    "splitter=RecursiveCharacterTextSplitter(chunk_size=200,chunk_overlap=50)\n",
    "chuncks=splitter.split_documents(documents=docs)\n",
    "chuncks"
   ]
  },
  {
   "cell_type": "code",
   "execution_count": 12,
   "id": "3f0cfdee",
   "metadata": {},
   "outputs": [],
   "source": [
    "from langchain.vectorstores import Chroma"
   ]
  },
  {
   "cell_type": "code",
   "execution_count": 13,
   "id": "4b91bcc5",
   "metadata": {},
   "outputs": [
    {
     "name": "stderr",
     "output_type": "stream",
     "text": [
      "c:\\Users\\divya\\Documents\\GitHub\\Agentic\\myvenv\\Lib\\site-packages\\tqdm\\auto.py:21: TqdmWarning: IProgress not found. Please update jupyter and ipywidgets. See https://ipywidgets.readthedocs.io/en/stable/user_install.html\n",
      "  from .autonotebook import tqdm as notebook_tqdm\n"
     ]
    },
    {
     "data": {
      "text/plain": [
       "[Document(metadata={'source': 'Data2\\\\usa.txt'}, page_content='Looking forward, the U.S. economy is expected to grow at a moderate pace, powered by innovation in AI, green energy, robotics, biotech, and quantum computing. The Biden administrationâ€™s Inflation'),\n",
       " Document(metadata={'source': 'Data2\\\\usa.txt'}, page_content='us Overview of the U.S. Economy'),\n",
       " Document(metadata={'source': 'Data2\\\\usa.txt'}, page_content='The U.S. economy remains the engine of global growth, backed by unmatched innovation, financial dominance, and a strong institutional framework. Its $28 trillion GDP and influence over global')]"
      ]
     },
     "execution_count": 13,
     "metadata": {},
     "output_type": "execute_result"
    }
   ],
   "source": [
    "from langchain_huggingface import HuggingFaceEmbeddings\n",
    "#embeddings=HuggingFaceEmbeddings(model=\"all-MiniLM-L6-v2\")\n",
    "embeddings=HuggingFaceEmbeddings(model=\"BAAI/bge-small-en\")\n",
    "db=Chroma.from_documents(chuncks,embeddings)\n",
    "\n",
    "\n",
    "retriever=db.as_retriever(search_kwargs={\"k\":3})\n",
    "\n",
    "retriever.invoke(\"industrial growth of usa?\")\n"
   ]
  },
  {
   "cell_type": "code",
   "execution_count": 14,
   "id": "93ccb84c",
   "metadata": {},
   "outputs": [],
   "source": [
    "def format_docs(docs):\n",
    "    return \"\\n\\n\".join(doc.page_content for doc in docs)"
   ]
  },
  {
   "cell_type": "code",
   "execution_count": 15,
   "id": "2f9d6202",
   "metadata": {},
   "outputs": [
    {
     "data": {
      "text/plain": [
       "{'messages': ['Real-time']}"
      ]
     },
     "execution_count": 15,
     "metadata": {},
     "output_type": "execute_result"
    }
   ],
   "source": [
    "state={\"messages\":[\"what is today weather?\"]}\n",
    "function1(state)"
   ]
  },
  {
   "cell_type": "code",
   "execution_count": 16,
   "id": "305ecf0e",
   "metadata": {},
   "outputs": [],
   "source": [
    "from langchain_core.output_parsers import StrOutputParser\n",
    "from langchain_core.runnables import RunnablePassthrough\n",
    "output_parser=StrOutputParser()"
   ]
  },
  {
   "cell_type": "code",
   "execution_count": 17,
   "id": "5664730c",
   "metadata": {},
   "outputs": [],
   "source": [
    "# RAG\n",
    "def function3(state:AgentState):\n",
    "\n",
    "    question=state['messages'][0]\n",
    "\n",
    "    prompt=PromptTemplate(\n",
    "        template=\"\"\"You are an assistant for question-answering tasks. Use the following pieces of retrieved context to answer the question. If you don't know the answer, just say that you don't know. Use three sentences maximum and keep the answer concise.\\nQuestion: {question} \\nContext: {context} \\nAnswer:\"\"\",\n",
    "        \n",
    "        input_variables=['context', 'question']\n",
    "    )\n",
    "    \n",
    "    rag_chain = (\n",
    "        {\"context\": retriever | format_docs, \"question\": RunnablePassthrough()}\n",
    "        | prompt\n",
    "        | model\n",
    "        | StrOutputParser()\n",
    "    )\n",
    "    result = rag_chain.invoke(question)\n",
    "\n",
    "    #print(result)\n",
    "\n",
    "    \n",
    "    \n",
    "\n",
    "\n",
    "    return {\"messages\":[result]}\n",
    "\n",
    "\n",
    "\n",
    "\n",
    "    \n",
    "    "
   ]
  },
  {
   "cell_type": "code",
   "execution_count": 18,
   "id": "71b5a9e4",
   "metadata": {},
   "outputs": [],
   "source": [
    "#function3({\"messages\":[\"whats gdp of usa?\"]})\n",
    "from langchain_community.tools.tavily_search import TavilySearchResults\n",
    "import os"
   ]
  },
  {
   "cell_type": "code",
   "execution_count": 19,
   "id": "6d3c9bd9",
   "metadata": {},
   "outputs": [],
   "source": [
    "def function4(state:AgentState):\n",
    "\n",
    "    query=state[\"messages\"][0]\n",
    "    print(\"entered\")\n",
    "\n",
    "    tavily_api_key=os.getenv(\"tavily_api_key\")\n",
    "    tavily_tool=TavilySearchResults(tavily_api_key=tavily_api_key)\n",
    "    result=tavily_tool.invoke({\"query\":query},max=1)\n",
    "    res=result[0]['content']\n",
    "    res=res.split('\\n')[0]\n",
    "    print(res)\n",
    "\n",
    "    return {\"message\":[res]}"
   ]
  },
  {
   "cell_type": "code",
   "execution_count": 20,
   "id": "fc2d54c4",
   "metadata": {},
   "outputs": [
    {
     "name": "stdout",
     "output_type": "stream",
     "text": [
      "entered\n"
     ]
    },
    {
     "name": "stderr",
     "output_type": "stream",
     "text": [
      "C:\\Users\\divya\\AppData\\Local\\Temp\\ipykernel_39708\\3439486773.py:7: LangChainDeprecationWarning: The class `TavilySearchResults` was deprecated in LangChain 0.3.25 and will be removed in 1.0. An updated version of the class exists in the :class:`~langchain-tavily package and should be used instead. To use it run `pip install -U :class:`~langchain-tavily` and import as `from :class:`~langchain_tavily import TavilySearch``.\n",
      "  tavily_tool=TavilySearchResults(tavily_api_key=tavily_api_key)\n"
     ]
    },
    {
     "name": "stdout",
     "output_type": "stream",
     "text": [
      "![Olympic Channel](https://www.olympics.com/images/static/b2p-images/logo_color.svg)\n"
     ]
    },
    {
     "data": {
      "text/plain": [
       "{'message': ['![Olympic Channel](https://www.olympics.com/images/static/b2p-images/logo_color.svg)']}"
      ]
     },
     "execution_count": 20,
     "metadata": {},
     "output_type": "execute_result"
    }
   ],
   "source": [
    "function4({\"messages\":[\"what happend at RCB victory meet in 2025?\"]})\n"
   ]
  },
  {
   "cell_type": "code",
   "execution_count": 21,
   "id": "5745e3a1",
   "metadata": {},
   "outputs": [
    {
     "data": {
      "text/plain": [
       "{'messages': ['The nominal GDP of the USA is estimated to be around $28 trillion USD as of 2024.  This represents approximately 25% of the global economy.  It holds the #1 ranking worldwide by nominal GDP.']}"
      ]
     },
     "execution_count": 21,
     "metadata": {},
     "output_type": "execute_result"
    }
   ],
   "source": [
    "function3({\"messages\":[\"what gdp of usa?\"]})"
   ]
  },
  {
   "cell_type": "code",
   "execution_count": 22,
   "id": "f92e0c61",
   "metadata": {},
   "outputs": [],
   "source": [
    "def router(state:AgentState):\n",
    "    query=state['messages'][-1]\n",
    "    if \"usa\" in query.lower():\n",
    "        return \"RAG Call\"\n",
    "    elif \"real\" in query.lower():\n",
    "        return \"Web Call\"\n",
    "    else:\n",
    "        return \"LLM Call\"\n",
    "    "
   ]
  },
  {
   "cell_type": "code",
   "execution_count": 23,
   "id": "ee2ed4d8",
   "metadata": {},
   "outputs": [
    {
     "data": {
      "text/plain": [
       "<langgraph.graph.state.StateGraph at 0x1c2ca31f5f0>"
      ]
     },
     "execution_count": 23,
     "metadata": {},
     "output_type": "execute_result"
    }
   ],
   "source": [
    "\n",
    "workflow1.add_node(\"Supervisor\",function1)\n",
    "workflow1.add_node(\"LLM\",function2)\n",
    "workflow1.add_node(\"RAG\",function3)\n",
    "workflow1.add_node(\"WEB\",function4)"
   ]
  },
  {
   "cell_type": "code",
   "execution_count": 24,
   "id": "cc1e979d",
   "metadata": {},
   "outputs": [
    {
     "data": {
      "text/plain": [
       "<langgraph.graph.state.StateGraph at 0x1c2ca31f5f0>"
      ]
     },
     "execution_count": 24,
     "metadata": {},
     "output_type": "execute_result"
    }
   ],
   "source": [
    "workflow1.set_entry_point(\"Supervisor\")"
   ]
  },
  {
   "cell_type": "code",
   "execution_count": 25,
   "id": "cdde01d4",
   "metadata": {},
   "outputs": [
    {
     "data": {
      "text/plain": [
       "<langgraph.graph.state.StateGraph at 0x1c2ca31f5f0>"
      ]
     },
     "execution_count": 25,
     "metadata": {},
     "output_type": "execute_result"
    }
   ],
   "source": [
    "workflow1.add_conditional_edges(\"Supervisor\",router,{\n",
    "    \"RAG Call\": \"RAG\",\n",
    "    \"LLM Call\": \"LLM\",\n",
    "    \"Web Call\": \"WEB\"\n",
    "})"
   ]
  },
  {
   "cell_type": "code",
   "execution_count": 26,
   "id": "2a227224",
   "metadata": {},
   "outputs": [
    {
     "data": {
      "text/plain": [
       "<langgraph.graph.state.StateGraph at 0x1c2ca31f5f0>"
      ]
     },
     "execution_count": 26,
     "metadata": {},
     "output_type": "execute_result"
    }
   ],
   "source": [
    "workflow1.add_edge(\"RAG\",END)\n",
    "workflow1.add_edge(\"LLM\",END)\n",
    "workflow1.add_edge(\"WEB\",END)"
   ]
  },
  {
   "cell_type": "code",
   "execution_count": 27,
   "id": "01740ce9",
   "metadata": {},
   "outputs": [
    {
     "data": {
      "image/png": "[encoded data removed]",
      "text/plain": [
       "<langgraph.graph.state.CompiledStateGraph object at 0x000001C28C7E74A0>"
      ]
     },
     "execution_count": 27,
     "metadata": {},
     "output_type": "execute_result"
    }
   ],
   "source": [
    "workflow1.compile()"
   ]
  },
  {
   "cell_type": "code",
   "execution_count": 28,
   "id": "7477dd43",
   "metadata": {},
   "outputs": [],
   "source": [
    "app=workflow1.compile()"
   ]
  },
  {
   "cell_type": "code",
   "execution_count": 29,
   "id": "a5b363a3",
   "metadata": {},
   "outputs": [
    {
     "data": {
      "text/plain": [
       "{'messages': [\"can you tell me the industrial growth of world's most powerful economy?\",\n",
       "  'USA',\n",
       "  \"The provided text states the U.S. has a $28 trillion GDP and is the engine of global growth.  However,  it doesn't give specific industrial growth figures.  Therefore, I cannot answer your question about the industrial growth rate.\"]}"
      ]
     },
     "execution_count": 29,
     "metadata": {},
     "output_type": "execute_result"
    }
   ],
   "source": [
    "app.invoke({\"messages\":[\"can you tell me the industrial growth of world's most powerful economy?\"]})"
   ]
  },
  {
   "cell_type": "code",
   "execution_count": 30,
   "id": "63b3422d",
   "metadata": {},
   "outputs": [
    {
     "data": {
      "text/plain": [
       "{'messages': [\"can you tell me the industrial growth of world's poor economy?\",\n",
       "  'Not-Related',\n",
       "  'The industrial growth of the world\\'s poorest economies is a complex and uneven picture.  There\\'s no single answer, as it varies drastically by country, region, and specific sector.  However, some general trends can be observed:\\n\\n**Challenges hindering industrial growth:**\\n\\n* **Lack of Infrastructure:** Many poor economies lack adequate infrastructure like reliable electricity, transportation networks (roads, ports, railways), and communication systems, making industrial development difficult and expensive.\\n* **Limited Access to Finance:**  Securing loans and investment capital is often challenging due to high risk perceptions, limited financial institutions, and a lack of collateral.\\n* **Political Instability and Corruption:**  Political instability, corruption, and weak governance create an unpredictable and unfavorable environment for investment and long-term industrial planning.\\n* **Human Capital Deficiencies:**  A lack of skilled labor, education, and training hinders productivity and technological advancement.\\n* **Technological Backwardness:**  Many poor economies rely on outdated technologies, limiting their competitiveness in global markets.\\n* **Dependence on Commodity Exports:**  Over-reliance on exporting raw materials (like minerals or agricultural products) leaves them vulnerable to price fluctuations and limits value addition within the country.\\n* **Trade Barriers:**  High tariffs and non-tariff barriers in both developed and developing countries can restrict access to international markets.\\n\\n\\n**Areas of Growth and Potential:**\\n\\nDespite these challenges, some progress is being made in certain areas:\\n\\n* **Rise of Manufacturing in Some Regions:**  Countries in Southeast Asia and parts of Africa have experienced growth in manufacturing, particularly in labor-intensive industries like textiles and garments.  This is often driven by foreign direct investment (FDI).\\n* **Growth of the Informal Sector:**  While often overlooked, the informal sector plays a significant role in many poor economies, providing employment and generating income, albeit often with limited productivity and worker protections.\\n* **Technological Leapfrogging:**  The adoption of mobile technology and other digital innovations can bypass the need for expensive traditional infrastructure in some sectors, leading to faster growth in certain areas like fintech and e-commerce.\\n* **Focus on Specific Industries:**  Some countries are focusing on developing specific industrial niches where they possess a comparative advantage, such as renewable energy or specialized agricultural products.\\n\\n\\n**Overall:**\\n\\nIndustrial growth in the world\\'s poorest economies is slow and uneven.  While some countries are making progress, many face significant hurdles.  Success often depends on a combination of factors including good governance, investment in infrastructure and human capital, access to finance, and supportive trade policies.  It\\'s crucial to remember that \"industrial growth\" itself is not a panacea; it needs to be sustainable, inclusive, and environmentally responsible to truly benefit the poor.  Simply focusing on GDP growth without addressing inequality and environmental concerns will likely not lead to lasting improvements in people\\'s lives.']}"
      ]
     },
     "execution_count": 30,
     "metadata": {},
     "output_type": "execute_result"
    }
   ],
   "source": [
    "app.invoke({\"messages\":[\"can you tell me the industrial growth of world's poor economy?\"]})"
   ]
  },
  {
   "cell_type": "code",
   "execution_count": 31,
   "id": "fd9af6d3",
   "metadata": {},
   "outputs": [
    {
     "name": "stdout",
     "output_type": "stream",
     "text": [
      "entered\n",
      "A stampede that broke out near the Chinnaswamy stadium in Bengaluru, after fans gathered to celebrate Royal Challengers Bengaluru’s IPL win, led to the [deaths of 11 persons and injuries to 33](https://www.thehindu.com/news/cities/bangalore/rcb-ipl-victory-celebrations-stampede-bengaluru-death-toll/article69656538.ece) on Wednesday (June 4, 2025). The tragedy unfolded near the gates of the stadium, where over 2 lakh fans had gathered to mark RCB’s historic first title win in 18 years. [...] The joyous celebrations following [Royal Challengers Bengaluru’s (RCB) IPL win](https://www.thehindu.com/sport/cricket/indian-premier-league-2025-finals-royal-challengers-bengaluru-vs-punjab-kings/article69653108.ece) turned deadly on Wednesday (June 4, 2025) evening, as a [stampede at M. Chinnaswamy Stadium claimed 11 lives and injured 33](https://www.thehindu.com/news/cities/bangalore/rcb-ipl-victory-celebrations-stampede-bengaluru-death-toll/article69656538.ece). Overcrowding, confusion over [...] ## Expressing grief over the death of 11 RCB fans outside the stadium in Bengaluru, CM Siddaramaiah set up a magisterial inquiry into the event\n"
     ]
    },
    {
     "data": {
      "text/plain": [
       "{'messages': ['what happend at RCB victory parade in 2025?', 'Real-time']}"
      ]
     },
     "execution_count": 31,
     "metadata": {},
     "output_type": "execute_result"
    }
   ],
   "source": [
    "app.invoke({\"messages\":[\"what happend at RCB victory parade in 2025?\"]})"
   ]
  },
  {
   "cell_type": "code",
   "execution_count": null,
   "id": "8d22a35a",
   "metadata": {},
   "outputs": [],
   "source": []
  },
  {
   "cell_type": "code",
   "execution_count": null,
   "id": "f749c346",
   "metadata": {},
   "outputs": [],
   "source": []
  },
  {
   "cell_type": "code",
   "execution_count": null,
   "id": "00a38fbd",
   "metadata": {},
   "outputs": [],
   "source": []
  },
  {
   "cell_type": "code",
   "execution_count": null,
   "id": "134eaa84",
   "metadata": {},
   "outputs": [],
   "source": []
  }
 ],
 "metadata": {
  "kernelspec": {
   "display_name": "myvenv",
   "language": "python",
   "name": "python3"
  },
  "language_info": {
   "codemirror_mode": {
    "name": "ipython",
    "version": 3
   },
   "file_extension": ".py",
   "mimetype": "text/x-python",
   "name": "python",
   "nbconvert_exporter": "python",
   "pygments_lexer": "ipython3",
   "version": "3.12.7"
  }
 },
 "nbformat": 4,
 "nbformat_minor": 5
}
