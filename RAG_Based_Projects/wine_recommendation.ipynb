{
 "cells": [
  {
   "cell_type": "markdown",
   "id": "a9f8c3ec",
   "metadata": {},
   "source": [
    "### Importing required Libraries"
   ]
  },
  {
   "cell_type": "code",
   "execution_count": 1,
   "id": "2d7e7707",
   "metadata": {},
   "outputs": [
    {
     "name": "stderr",
     "output_type": "stream",
     "text": [
      "c:\\Users\\divya\\Documents\\GitHub\\Agentic\\myvenv\\Lib\\site-packages\\tqdm\\auto.py:21: TqdmWarning: IProgress not found. Please update jupyter and ipywidgets. See https://ipywidgets.readthedocs.io/en/stable/user_install.html\n",
      "  from .autonotebook import tqdm as notebook_tqdm\n"
     ]
    }
   ],
   "source": [
    "# API keys\n",
    "import os \n",
    "from dotenv import load_dotenv\n",
    "\n",
    "# For LLM\n",
    "from langchain_groq import ChatGroq\n",
    "\n",
    "# Document Loader\n",
    "from langchain_community.document_loaders.csv_loader import CSVLoader\n",
    "\n",
    "# Embedding model\n",
    "from langchain_huggingface.embeddings import HuggingFaceEmbeddings\n",
    "\n",
    "# Type validation\n",
    "from pydantic import BaseModel,Field\n",
    "\n",
    "# Vector DB\n",
    "from pinecone import ServerlessSpec,Pinecone\n",
    "from langchain_pinecone import PineconeVectorStore\n",
    "from uuid import uuid4\n",
    "\n",
    "\n",
    "# Output Parser for desired output structure\n",
    "from langchain_core.prompts import PromptTemplate,ChatPromptTemplate\n",
    "from langchain_core.output_parsers import PydanticOutputParser\n",
    "\n",
    "# LangGrapgh Workflow\n",
    "from langgraph.graph import StateGraph,MessagesState,START,END\n",
    "from typing import TypedDict,List\n"
   ]
  },
  {
   "cell_type": "markdown",
   "id": "dcb8f3f9",
   "metadata": {},
   "source": [
    "#### Loading API keys"
   ]
  },
  {
   "cell_type": "code",
   "execution_count": 2,
   "id": "42737885",
   "metadata": {},
   "outputs": [
    {
     "data": {
      "text/plain": [
       "True"
      ]
     },
     "execution_count": 2,
     "metadata": {},
     "output_type": "execute_result"
    }
   ],
   "source": [
    "\n",
    "\n",
    "load_dotenv()"
   ]
  },
  {
   "cell_type": "markdown",
   "id": "e703fcc0",
   "metadata": {},
   "source": [
    "#### Setting up LLM"
   ]
  },
  {
   "cell_type": "code",
   "execution_count": 3,
   "id": "763f7066",
   "metadata": {},
   "outputs": [
    {
     "data": {
      "text/plain": [
       "AIMessage(content='How can I assist you today?', additional_kwargs={}, response_metadata={'token_usage': {'completion_tokens': 8, 'prompt_tokens': 36, 'total_tokens': 44, 'completion_time': 0.011120941, 'prompt_time': 0.212150615, 'queue_time': 0.201290364, 'total_time': 0.223271556}, 'model_name': 'llama-3.1-8b-instant', 'system_fingerprint': 'fp_c523237e5d', 'finish_reason': 'stop', 'logprobs': None}, id='run--e73d0cea-fb64-48f7-8d63-13aed857fcbe-0', usage_metadata={'input_tokens': 36, 'output_tokens': 8, 'total_tokens': 44})"
      ]
     },
     "execution_count": 3,
     "metadata": {},
     "output_type": "execute_result"
    }
   ],
   "source": [
    "\n",
    "\n",
    "llm=ChatGroq(model='llama-3.1-8b-instant')\n",
    "llm.invoke(\"Hello\")"
   ]
  },
  {
   "cell_type": "markdown",
   "id": "fe729125",
   "metadata": {},
   "source": [
    "#### Document Loader to load `wine_reviews` Dataset"
   ]
  },
  {
   "cell_type": "code",
   "execution_count": 4,
   "id": "56faebe1",
   "metadata": {},
   "outputs": [],
   "source": [
    "\n",
    "\n",
    "loader=CSVLoader(file_path=r'C:\\Users\\divya\\Documents\\GitHub\\Agentic\\RAG_Based_Projects\\winemag-data-130k-v2.csv',encoding='utf-8')\n",
    "docs=loader.load()"
   ]
  },
  {
   "cell_type": "code",
   "execution_count": 5,
   "id": "51a7134a",
   "metadata": {},
   "outputs": [
    {
     "data": {
      "text/plain": [
       "129971"
      ]
     },
     "execution_count": 5,
     "metadata": {},
     "output_type": "execute_result"
    }
   ],
   "source": [
    "len(docs)"
   ]
  },
  {
   "cell_type": "markdown",
   "id": "e4693a38",
   "metadata": {},
   "source": [
    "#### Hugging Face Embedding model for Vectore DB"
   ]
  },
  {
   "cell_type": "code",
   "execution_count": 20,
   "id": "5106cb21",
   "metadata": {},
   "outputs": [
    {
     "data": {
      "text/plain": [
       "384"
      ]
     },
     "execution_count": 20,
     "metadata": {},
     "output_type": "execute_result"
    }
   ],
   "source": [
    "\n",
    "\n",
    "embeddings=HuggingFaceEmbeddings(model_name=\"all-MiniLM-L6-v2\")\n",
    "\n",
    "embedding_dim = len(embeddings.embed_query(\"hello world\"))\n",
    "embedding_dim"
   ]
  },
  {
   "cell_type": "markdown",
   "id": "c4cedd67",
   "metadata": {},
   "source": [
    "#### Setting up Pinecone vector DB"
   ]
  },
  {
   "cell_type": "code",
   "execution_count": 7,
   "id": "28da26c0",
   "metadata": {},
   "outputs": [],
   "source": [
    "\n",
    "\n",
    "pinecone_api_key = os.environ.get(\"PINECONE_API_KEY\")\n",
    "pc = Pinecone(api_key=pinecone_api_key)\n",
    "\n",
    "index_name = \"wine-rag-pipelin\"  \n",
    "\n",
    "if not pc.has_index(index_name):\n",
    "    pc.create_index(\n",
    "        name=index_name,\n",
    "        dimension=embedding_dim,\n",
    "        metric=\"cosine\",\n",
    "        spec=ServerlessSpec(cloud=\"aws\", region=\"us-east-1\"),\n",
    "    )\n",
    "\n",
    "index = pc.Index(index_name)"
   ]
  },
  {
   "cell_type": "markdown",
   "id": "e46aba79",
   "metadata": {},
   "source": [
    "##### Loading Documents in Vector DB"
   ]
  },
  {
   "cell_type": "code",
   "execution_count": 8,
   "id": "9c7ba8bb",
   "metadata": {},
   "outputs": [],
   "source": [
    "\n",
    "\n",
    "vector_store = PineconeVectorStore(index=index, embedding=embeddings)\n",
    "\n",
    "\n",
    "\n",
    "uuids = [str(uuid4()) for _ in range(len(docs))]\n"
   ]
  },
  {
   "cell_type": "markdown",
   "id": "1d13395c",
   "metadata": {},
   "source": [
    "##### Total Records"
   ]
  },
  {
   "cell_type": "code",
   "execution_count": 9,
   "id": "361efcb4",
   "metadata": {},
   "outputs": [
    {
     "data": {
      "text/plain": [
       "129971"
      ]
     },
     "execution_count": 9,
     "metadata": {},
     "output_type": "execute_result"
    }
   ],
   "source": [
    "len(uuids)"
   ]
  },
  {
   "cell_type": "code",
   "execution_count": 10,
   "id": "24facc74",
   "metadata": {},
   "outputs": [],
   "source": [
    "#vector_store.add_documents(documents=docs, ids=uuids)"
   ]
  },
  {
   "cell_type": "code",
   "execution_count": null,
   "id": "5165f908",
   "metadata": {},
   "outputs": [],
   "source": [
    "class StructuredOutput(BaseModel):\n",
    "    country:str = Field(description=\"country name\")\n",
    "    wine:str = Field(description=\"Wine name\")\n",
    "    price_in_USD:int = Field(description=\"Wine price\")\n",
    "    wine_variety:str = Field(description=\"wine variety\")\n",
    "    Reason:str = Field(description=\"Reasoning for this suggestion in 4-5 lines\")"
   ]
  },
  {
   "cell_type": "markdown",
   "id": "a9bbae35",
   "metadata": {},
   "source": [
    "### LangGrapgh for defining RAG workflow"
   ]
  },
  {
   "cell_type": "markdown",
   "id": "db7d0dee",
   "metadata": {},
   "source": [
    "#### Defining State"
   ]
  },
  {
   "cell_type": "code",
   "execution_count": 12,
   "id": "8515e904",
   "metadata": {},
   "outputs": [],
   "source": [
    "class State(TypedDict):\n",
    "    question:str\n",
    "    context:List[str]\n",
    "    answer:str"
   ]
  },
  {
   "cell_type": "code",
   "execution_count": 13,
   "id": "2bd18ddc",
   "metadata": {},
   "outputs": [],
   "source": [
    "graph=StateGraph(State)"
   ]
  },
  {
   "cell_type": "code",
   "execution_count": 14,
   "id": "d41661f5",
   "metadata": {},
   "outputs": [],
   "source": [
    "def retrieve(state:State):\n",
    "    \n",
    "    #print(state)\n",
    "\n",
    "    retriever=vector_store.as_retriever(search_kwargs={\"k\": 3} )\n",
    "\n",
    "    retrival_result=retriever.invoke(state['question'])\n",
    "    result=[]\n",
    "    for res in retrival_result:\n",
    "        result.append(res.page_content)\n",
    "\n",
    "\n",
    "    return {\"context\":result}\n"
   ]
  },
  {
   "cell_type": "code",
   "execution_count": 15,
   "id": "6033b1eb",
   "metadata": {},
   "outputs": [],
   "source": [
    "def generate(state:State):\n",
    "    \n",
    "    #print(state)\n",
    "    parser=PydanticOutputParser(pydantic_object=StructuredOutput)\n",
    "\n",
    "    format_instructions = parser.get_format_instructions()\n",
    "\n",
    "    template= \"\"\" You are an assistant for question-answering tasks. Use the following pieces of retrieved context to \n",
    "    answer the question. If you don't know the answer, just say that you don't know. \n",
    "    Use three sentences maximum and keep the answer concise in format : {format_instructions}\n",
    "    Question: {question} \n",
    "    Context: {context} \n",
    "    Answer: \"\"\"\n",
    "\n",
    "    prompt=PromptTemplate(\n",
    "        template=template,\n",
    "        input_variables=[\"question\",\"context\"],\n",
    "        partial_variables={\"format_instructions\": format_instructions}\n",
    "    )\n",
    "    \n",
    "    rag= prompt | llm \n",
    "    \n",
    "    answer=rag.invoke({\"question\":state['question'],\"context\":state['context']})\n",
    "    \n",
    "    return {'answer':answer.content}"
   ]
  },
  {
   "cell_type": "code",
   "execution_count": 16,
   "id": "0bdf8ab6",
   "metadata": {},
   "outputs": [
    {
     "data": {
      "text/plain": [
       "<langgraph.graph.state.StateGraph at 0x163c688d430>"
      ]
     },
     "execution_count": 16,
     "metadata": {},
     "output_type": "execute_result"
    }
   ],
   "source": [
    "graph.add_node(\"Retrive\",retrieve)\n",
    "graph.add_node(\"Generate\",generate)\n"
   ]
  },
  {
   "cell_type": "code",
   "execution_count": 17,
   "id": "5faa308f",
   "metadata": {},
   "outputs": [
    {
     "data": {
      "image/png": "[encoded data removed]",
      "text/plain": [
       "<langgraph.graph.state.CompiledStateGraph object at 0x00000163F9E61EB0>"
      ]
     },
     "execution_count": 17,
     "metadata": {},
     "output_type": "execute_result"
    }
   ],
   "source": [
    "graph.add_edge(START,\"Retrive\")\n",
    "graph.add_edge(\"Retrive\",\"Generate\")\n",
    "graph.compile()"
   ]
  },
  {
   "cell_type": "code",
   "execution_count": 18,
   "id": "a9bc497a",
   "metadata": {},
   "outputs": [],
   "source": [
    "rag_pipeline=graph.compile()"
   ]
  },
  {
   "cell_type": "code",
   "execution_count": 19,
   "id": "52a72939",
   "metadata": {},
   "outputs": [
    {
     "name": "stdout",
     "output_type": "stream",
     "text": [
      "{'Retrive': {'context': [\": 41150\\ncountry: US\\ndescription: Made from 100% Chardonnay, this wine is marketed to celebrate wedding anniversaries. It's as light as a feather, with a fine, silky mousse framing orange, lime, vanilla, honey and yeasty sourdough flavors. Delicious and elegant, it's a wine to toast with almost anything, including wedding cake.\\ndesignation: Anniversary Cuvée\\npoints: 90\\nprice: 40.0\\nprovince: California\\nregion_1: Carneros\\nregion_2: Napa-Sonoma\\ntaster_name: \\ntaster_twitter_handle: \\ntitle: Gloria Ferrer 2008 Anniversary Cuvée Sparkling (Carneros)\\nvariety: Sparkling Blend\\nwinery: Gloria Ferrer\", ': 92425\\ncountry: France\\ndescription: Calling a wine romantic is perhaps a new approach for Bordeaux. The wine itself is ripe and jammy, with wood tannins that will be softer in a year. Drink from 2016.\\ndesignation: Romantique\\npoints: 86\\nprice: 10.0\\nprovince: Bordeaux\\nregion_1: Bordeaux\\nregion_2: \\ntaster_name: Roger Voss\\ntaster_twitter_handle: @vossroger\\ntitle: Les Vignerons Réunis de Monségur 2012 Romantique  (Bordeaux)\\nvariety: Bordeaux-style Red Blend\\nwinery: Les Vignerons Réunis de Monségur', \": 87098\\ncountry: US\\ndescription: Almost as sweet as a dessert wine, with buttered toast, honey, caramel corn and pineapple jam fruit flavors. There's good acidity, but the sweetness makes it simple.\\ndesignation: Thirty-Fifth Anniversary\\npoints: 85\\nprice: 18.0\\nprovince: California\\nregion_1: Central Coast\\nregion_2: Central Coast\\ntaster_name: \\ntaster_twitter_handle: \\ntitle: Calera 2010 Thirty-Fifth Anniversary Chardonnay (Central Coast)\\nvariety: Chardonnay\\nwinery: Calera\"]}}\n",
      "\n",
      "----------------\n",
      "\n",
      "{'Generate': {'answer': '{\\n  \"country\": \"US\",\\n  \"wine\": \"Gloria Ferrer 2008 Anniversary Cuvée Sparkling (Carneros)\",\\n  \"price\": 40,\\n  \"wine_variety\": \"Sparkling Blend\",\\n  \"Reason\": \"This wine is perfect for an anniversary dinner as it\\'s marketed to celebrate wedding anniversaries and is described as \\'delicious and elegant\\'.\"\\n}'}}\n",
      "\n",
      "----------------\n",
      "\n"
     ]
    }
   ],
   "source": [
    "for step in rag_pipeline.stream(\n",
    "    {\"question\":\"Suggest a celebratory wine for an anniversary dinner\"}, stream_mode=\"updates\"\n",
    "):\n",
    "    print(f\"{step}\\n\\n----------------\\n\")"
   ]
  }
 ],
 "metadata": {
  "kernelspec": {
   "display_name": "myvenv",
   "language": "python",
   "name": "python3"
  },
  "language_info": {
   "codemirror_mode": {
    "name": "ipython",
    "version": 3
   },
   "file_extension": ".py",
   "mimetype": "text/x-python",
   "name": "python",
   "nbconvert_exporter": "python",
   "pygments_lexer": "ipython3",
   "version": "3.12.7"
  }
 },
 "nbformat": 4,
 "nbformat_minor": 5
}
